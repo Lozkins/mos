{
  "nbformat": 4,
  "nbformat_minor": 0,
  "metadata": {
    "colab": {
      "provenance": [],
      "authorship_tag": "ABX9TyMBUdpUr0yPSacYuhQPkDIb",
      "include_colab_link": true
    },
    "kernelspec": {
      "name": "python3",
      "display_name": "Python 3"
    },
    "language_info": {
      "name": "python"
    }
  },
  "cells": [
    {
      "cell_type": "markdown",
      "metadata": {
        "id": "view-in-github",
        "colab_type": "text"
      },
      "source": [
        "<a href=\"https://colab.research.google.com/github/Lozkins/mos/blob/master/06_Traveling_in_Russia.ipynb\" target=\"_parent\"><img src=\"https://colab.research.google.com/assets/colab-badge.svg\" alt=\"Open In Colab\"/></a>"
      ]
    },
    {
      "cell_type": "markdown",
      "source": [
        "# Планируем путешествие - задача коммивояжера (TSP) для построения оптимального маршрута\n",
        "\n",
        "<center>\n",
        "\n",
        "![Рекомендуемые локации к посещению](https://drive.google.com/uc?export=view&id=1v0fMENEzAFuniANQiBeTAbWw7L6OYbrz)\n",
        "\n",
        "</center>\n"
      ],
      "metadata": {
        "id": "vLY4pOpZtjQ0"
      }
    },
    {
      "cell_type": "markdown",
      "source": [
        "С вами Алексей Ложкинс, эксперт по анализу данных и машинному обучению в ПГК Диджитал. Мы разрабатываем цифровые продукты для логистической отрасли, в первую очередь, для ж/д перевозок.\n",
        "\n",
        "В кулуарах московского офиса ПГК мы обсуждаем и нерабочие темы. Топовую строчку в темах неформального общения занимает отпуск. Мы решили рассмотреть задачу планирования отпуска, как задачу оптимизации маршрута по выбранным достопримечательностям. Для этого воспользовались классической постановкой задачи коммивояжера.\n",
        "\n",
        "Моделирование маршрута в виде задачи коммивояжера позволит построить маршрут по всем запланированным локациям без повторений с заданным критерием качества (время, стоимость). Рассмотрим несколько подходов к решению оптимизационной задачи (TSP) с использованием пакета ORTools.\n",
        "\n",
        "<!-- В кулуарах московского офиса ПГК обсуждаем нерабочие темы. Спонтанные вбросы, хаки практичности из жизни, философские разборы поведения коллег, новости в науке о данных, отдельное внимание уделяем chatGPT и не только этими направлениями ограничивается спектр наших бесед. Часть встреч остается без продолжения, некоторые занимают чарт недели или месяца, а некоторые выливаются во что-то большее.\n",
        "\n",
        "Отпуск. Занимает топовую строчку в темах неформального общения не только ПГК, но и любой другой компании. Мы рассмотрели задачу планирования отпуска как задачу оптимизации маршрута по выбранным достопримечательностям. Для этого воспользовались классической постановкой задачи коммивояжера.\n",
        "\n",
        "<!-- Запланировали длительный, насыщенный достопримечательностями отпуск или любите экстремальные локации? Данный материал поможет вам организовать максимально разнообразный, плотный и дешевый маршрут. -->\n",
        "\n",
        "<!-- Моделирование маршрута в виде задачи коммивояжера позволит построить маршрут по всем запланированным локациям без повторений с заданным критерием качества (время, стоимость). Рассмотрим несколько подходов к решению оптимизационной задачи (TSP) с использованием пакета ORTools.\n",
        "\n",
        "С вами Алексей Ложкинс, эксперт по анализу данных и машинному обучению в ПГК Диджитал. Мы разрабатываем цифровые продукты для логистической отрасли, в первую очередь, для ж/д перевозок. -->"
      ],
      "metadata": {
        "id": "yoBZa_n2Bjr1"
      }
    },
    {
      "cell_type": "markdown",
      "source": [
        "# О задаче коммивояжера (TSP)\n",
        "\n",
        "<!-- Сегодня доставка готовой еды или продуктов, почтовых или других посылок является популярной услугой сетевых магазинов, маркетплейсов и сервисов доставки посылок. Объемы спроса на эти сервисы огромные. Порой доставка заказов нескольким клиентам может требоваться в один и тот же дом/ЖК. С целью снижения себестоимости доставки и предоставления более доступной стоимости услуги потребителям эти заказы могут быть объединены в один пакет и доставляться одним курьером за раз. Здесь появляется так называемый эффект масштаба, когда себестоимость доставки единицы заказа снижается с увеличением их количества.\n",
        "\n",
        "При рассмотрении одного курьера и пула заказов, которые он должен доставить, возникает классическая задача коммивояжера. В более сложном случае, когда у нас несколько курьеров, задача коммивояжера эволюционирует в [vehicle routing problem](https://en.wikipedia.org/wiki/Vehicle_routing_problem), но это другая история.\n",
        "\n",
        "Здесь рассмотрим решение задачи коммивояжера для построения туристического маршрута на примере локаций на территории России. Требования к маршруту могут быть разными, рассмотрим наиболее популярные: самый быстрый или самый дешевый. -->\n",
        "\n",
        "Доставка разных товаров очень популярная услуга сегодня. Чтобы снизить себестоимость и цену на услуги для потребителя, заказы объединяют и доставляются одним курьером. Здесь появляется так называемый эффект масштаба, когда себестоимость доставки единицы заказа снижается с увеличением их количества.\n",
        "\n",
        "При рассмотрении одного курьера и пула заказов, которые он должен доставить, возникает классическая задача коммивояжера. В более сложном случае, когда у нас несколько курьеров, задача коммивояжера эволюционирует в [vehicle routing problem](https://en.wikipedia.org/wiki/Vehicle_routing_problem), но это уже другая история.\n",
        "\n",
        "Здесь рассмотрим решение задачи коммивояжера для построения туристического маршрута на примере локаций на территории России. Требования к маршруту могут быть разными, рассмотрим наиболее популярные: самый быстрый или самый дешевый."
      ],
      "metadata": {
        "id": "eiPneoRUHKEU"
      }
    },
    {
      "cell_type": "markdown",
      "source": [
        "# Туристические локации: данные\n",
        "\n",
        "Куда мы хотим поехать? Соберем пожелания в список. Дарья Васильева (координатор управления анализа данных и машинного обучения)подготовила свой вариант такого списка, с которым можно ознакомиться [здесь](https://github.com/Lozkins/mos/blob/master/data/06_tsp_coord.csv), отдельное спасибо ей за это! Помимо локаций потребуются ребра - связь между локациями.\n",
        "\n",
        "<center>\n",
        "\n",
        "![Рекомендуемые локации к посещению](https://drive.google.com/uc?export=view&id=1-zkn4WbYMpLEh9x8j9INRQk3BZ0q2Avk)\n",
        "\n",
        "</center>\n",
        "\n",
        "Рассмотрим неполный граф (возможны не все соединения между городами, а наиболее рациональные ребра). География предлагаемых мест достаточно обширная, и время следования ж/д или авто транспортом может занимать рабочую неделю, поэтому сделали акцент на авиаперевозки. Если хотите насытить поездку ж/д антуражем, то достаточно наполнить входные данные тарифами и временем в ходу для интересующих ребер. Модель можно использовать и для грузоперевозок по железной дороге в том числе.\n",
        "С графом допустимых перемещений можно ознакомиться [здесь](https://github.com/Lozkins/mos/blob/master/data/06_tsp_dist.csv).\n",
        "\n",
        "<center>\n",
        "\n",
        "![Ребра рассматриваемого графа](https://drive.google.com/uc?export=view&id=1eI2gLpLhwozgIRFB_aPB98uqQQ1L44PD)\n",
        "\n",
        "</center>\n",
        "\n"
      ],
      "metadata": {
        "id": "UbeDWtUkOZH4"
      }
    },
    {
      "cell_type": "markdown",
      "source": [
        "# Технический стэк\n",
        "\n",
        "Прежде чем переходить к технической части, обсудим инструменты и подход. Математический аппарат для моделирования задачи - целочисленное линейное программирование (ILP), относится к точным методам. Постановка в ILP позволяет применить уже готовые пакеты (солверы) для решения оптимизационной задачи и получить точное решение на выходе.\n",
        "\n",
        "Солверы можно разделить на бесплатные open-source солверы (cbc, scip, highs, glpk и др.) и коммерческие (gurobi, copt, cplex, optverse и др.). Так как солверы применяются только для моделирования и решения задач, то спектр отличий у них не большой: API и производительность. Вопрос API решается сторонними обертками над солверами, которые позволяют моделировать и подключать различные солверы для решения задач (например, PuLP, Pyomo, ORTools, FeLooPy, GAMS и др.). Как следствие, коммерческие солверы \"почти везде\" превосходят по производительности open-source, больше фактов [здесь](https://plato.asu.edu/ftp/milp.html).\n",
        "\n",
        "Зафиксируем стэк. Реализацию модели сделаем на python, среда для моделирования [ORTools](https://developers.google.com/optimization?hl=en), солвер open-source cp-sat (ORTools), визуализацию будем проводить в plotly, немного поиспользуем pandas и networkx.\n",
        "\n",
        "По поводу солвера, cp-sat не совсем решатель задач целочисленного линейного программирования, но в том числе покрывает этот класс задач. Детально в специфику не будем уходить (ключевые слова для тех кто хочет: constraint programming, boolean satisfability). Кроме того, ORTools имеет отдельный набор алгоритмов для решения задачи vehicle routing problem, которая в частном случае эквивалентна задаче TSP. Воспользуемся этими алгоритмами для валидации результата модели ILP."
      ],
      "metadata": {
        "id": "KMCFIWKkOZZK"
      }
    },
    {
      "cell_type": "markdown",
      "source": [
        "# Моделирование\n",
        "\n",
        "Воспользуемся симметричностью матрицы переходов между узлами и сформулируем минималистичную модель ILP задачи планирования маршрута на условиях TSP.  Введем обозначения, ограничения и целевую функцию:\n",
        "\n",
        "$i, j \\in N$ - множество узлов сети;\n",
        "\n",
        "$d_{ij}$ - расстояние/затраты/время движения по ребру $i-j$;\n",
        "\n",
        "$x_{ij}$ - бинарная переменная, индикатор выбора ребра в маршрут (=1 если ребро в маршруте, 0 - в противном случае);\n",
        "\n",
        "$$\n",
        "\\begin{align}\n",
        "\\min \\sum_{i,j} d_{ij} x_{ij} \\\\\n",
        "\\sum_{j} x_{ij} = 2 & \\quad \\forall  i \\in N & (1) \\\\\n",
        "\\sum_{i,j \\in S : i<j} x_{ij} \\le |S|-1 & \\quad \\forall S \\subset N, 2 \\le |S| \\le |N|-2 \\quad & (2) \\\\\n",
        "x_{ij} = x_{ji} & \\quad \\forall i,j \\in N & (3) \\\\\n",
        "x_{ij} \\in \\{0,1\\} & \\quad \\forall i,j \\in N & (4) \\\\\n",
        "\\end{align}\n",
        "$$\n",
        "\n",
        "Начнем разбор модели с целевой функции - традиционно это минимизация длины маршрута, но как вариации могут рассматриваться минимизация затрат или минимизация времени в пути, другие варианты тоже возможны. Ограничение (1) обязывает модель организовать один вход и один выход. Для каждого подмножества $N$ создаем ограничения типа (2), они обеспечивают создание связного маршрута. Ограничение симметрии (3), неважно, в каком направлении идем по ребру, важно что идем (матрица переходов симметричная). Ограничения (4) - бинарность переменных.\n",
        "\n",
        "Комментарии к ограничениям. Ограничения типа (3) сократятся на presolve этапе солвера. Можно сформулировать модель без этого ограничения, но запись модели будет немного сложнее. Количество ограничений типа (2) растет экспоненциально в зависимости от $|N|$, что выглядит не очень практично. С этим поборемся далее."
      ],
      "metadata": {
        "id": "60FdCGF2MB6B"
      }
    },
    {
      "cell_type": "markdown",
      "source": [
        "# Python реализация модели\n",
        "\n",
        "Построим модель без ограничения (2), посмотрим, что означает связность маршрута на практике. В качестве целевой функции будем использовать минимизацию затрат на трансфер между локациями.\n",
        "\n"
      ],
      "metadata": {
        "id": "K80D6mIw6Rba"
      }
    },
    {
      "cell_type": "code",
      "source": [
        "# Установим библиотеку ortools\n",
        "!pip install ortools\n",
        "!pip install networkx"
      ],
      "metadata": {
        "colab": {
          "base_uri": "https://localhost:8080/"
        },
        "id": "_rLzqT267bMd",
        "outputId": "1a1422aa-1e28-41ed-db5f-1dab331ba8db"
      },
      "execution_count": null,
      "outputs": [
        {
          "output_type": "stream",
          "name": "stdout",
          "text": [
            "Collecting ortools\n",
            "  Downloading ortools-9.8.3296-cp310-cp310-manylinux_2_17_x86_64.manylinux2014_x86_64.whl (22.9 MB)\n",
            "\u001b[2K     \u001b[90m━━━━━━━━━━━━━━━━━━━━━━━━━━━━━━━━━━━━━━━━\u001b[0m \u001b[32m22.9/22.9 MB\u001b[0m \u001b[31m103.4 MB/s\u001b[0m eta \u001b[36m0:00:00\u001b[0m\n",
            "\u001b[?25hCollecting absl-py>=2.0.0 (from ortools)\n",
            "  Downloading absl_py-2.0.0-py3-none-any.whl (130 kB)\n",
            "\u001b[2K     \u001b[90m━━━━━━━━━━━━━━━━━━━━━━━━━━━━━━━━━━━━━━━━\u001b[0m \u001b[32m130.2/130.2 kB\u001b[0m \u001b[31m18.9 MB/s\u001b[0m eta \u001b[36m0:00:00\u001b[0m\n",
            "\u001b[?25hRequirement already satisfied: numpy>=1.13.3 in /usr/local/lib/python3.10/dist-packages (from ortools) (1.23.5)\n",
            "Collecting pandas>=2.0.0 (from ortools)\n",
            "  Downloading pandas-2.1.3-cp310-cp310-manylinux_2_17_x86_64.manylinux2014_x86_64.whl (12.3 MB)\n",
            "\u001b[2K     \u001b[90m━━━━━━━━━━━━━━━━━━━━━━━━━━━━━━━━━━━━━━━━\u001b[0m \u001b[32m12.3/12.3 MB\u001b[0m \u001b[31m129.7 MB/s\u001b[0m eta \u001b[36m0:00:00\u001b[0m\n",
            "\u001b[?25hCollecting protobuf>=4.25.0 (from ortools)\n",
            "  Downloading protobuf-4.25.1-cp37-abi3-manylinux2014_x86_64.whl (294 kB)\n",
            "\u001b[2K     \u001b[90m━━━━━━━━━━━━━━━━━━━━━━━━━━━━━━━━━━━━━━━━\u001b[0m \u001b[32m294.6/294.6 kB\u001b[0m \u001b[31m39.7 MB/s\u001b[0m eta \u001b[36m0:00:00\u001b[0m\n",
            "\u001b[?25hRequirement already satisfied: python-dateutil>=2.8.2 in /usr/local/lib/python3.10/dist-packages (from pandas>=2.0.0->ortools) (2.8.2)\n",
            "Requirement already satisfied: pytz>=2020.1 in /usr/local/lib/python3.10/dist-packages (from pandas>=2.0.0->ortools) (2023.3.post1)\n",
            "Collecting tzdata>=2022.1 (from pandas>=2.0.0->ortools)\n",
            "  Downloading tzdata-2023.3-py2.py3-none-any.whl (341 kB)\n",
            "\u001b[2K     \u001b[90m━━━━━━━━━━━━━━━━━━━━━━━━━━━━━━━━━━━━━━━━\u001b[0m \u001b[32m341.8/341.8 kB\u001b[0m \u001b[31m44.1 MB/s\u001b[0m eta \u001b[36m0:00:00\u001b[0m\n",
            "\u001b[?25hRequirement already satisfied: six>=1.5 in /usr/local/lib/python3.10/dist-packages (from python-dateutil>=2.8.2->pandas>=2.0.0->ortools) (1.16.0)\n",
            "Installing collected packages: tzdata, protobuf, absl-py, pandas, ortools\n",
            "  Attempting uninstall: protobuf\n",
            "    Found existing installation: protobuf 3.20.3\n",
            "    Uninstalling protobuf-3.20.3:\n",
            "      Successfully uninstalled protobuf-3.20.3\n",
            "  Attempting uninstall: absl-py\n",
            "    Found existing installation: absl-py 1.4.0\n",
            "    Uninstalling absl-py-1.4.0:\n",
            "      Successfully uninstalled absl-py-1.4.0\n",
            "  Attempting uninstall: pandas\n",
            "    Found existing installation: pandas 1.5.3\n",
            "    Uninstalling pandas-1.5.3:\n",
            "      Successfully uninstalled pandas-1.5.3\n",
            "\u001b[31mERROR: pip's dependency resolver does not currently take into account all the packages that are installed. This behaviour is the source of the following dependency conflicts.\n",
            "lida 0.0.10 requires fastapi, which is not installed.\n",
            "lida 0.0.10 requires kaleido, which is not installed.\n",
            "lida 0.0.10 requires python-multipart, which is not installed.\n",
            "lida 0.0.10 requires uvicorn, which is not installed.\n",
            "google-colab 1.0.0 requires pandas==1.5.3, but you have pandas 2.1.3 which is incompatible.\n",
            "tensorflow-metadata 1.14.0 requires absl-py<2.0.0,>=0.9, but you have absl-py 2.0.0 which is incompatible.\n",
            "tensorflow-metadata 1.14.0 requires protobuf<4.21,>=3.20.3, but you have protobuf 4.25.1 which is incompatible.\u001b[0m\u001b[31m\n",
            "\u001b[0mSuccessfully installed absl-py-2.0.0 ortools-9.8.3296 pandas-2.1.3 protobuf-4.25.1 tzdata-2023.3\n",
            "Requirement already satisfied: networkx in /usr/local/lib/python3.10/dist-packages (3.2.1)\n"
          ]
        }
      ]
    },
    {
      "cell_type": "code",
      "source": [
        "# Упрощенная версия модели без ограничений типа (2)\n",
        "from ortools.sat.python import cp_model\n",
        "import pandas as pd\n",
        "import numpy as np\n",
        "\n",
        "# Считаем входные данные\n",
        "df_dist = df_cab = pd.read_csv(\"https://raw.githubusercontent.com/Lozkins/mos/master/data/06_tsp_dist.csv\", sep=\";\", encoding=\"cp1251\")\n",
        "df_location = df_cab = pd.read_csv(\"https://raw.githubusercontent.com/Lozkins/mos/master/data/06_tsp_coord.csv\", sep=\";\", encoding=\"cp1251\")\n",
        "\n",
        "obj_type = \"cost\"  # Тип целевой функции. Допустимые значения [\"cost\", \"travel_time\"]\n",
        "\n",
        "m = cp_model.CpModel()\n",
        "\n",
        "# Инициализация переменных\n",
        "df_dist[\"var_id\"] = np.ogrid[:df_dist.shape[0]]\n",
        "df_dist[\"var\"] = df_dist[\"var_id\"].apply(lambda x: m.NewBoolVar(f\"x_{x}\"))\n",
        "\n",
        "# Создаем ограничения типа (1)\n",
        "dct_constr_1 = df_dist.groupby(\"to\")[\"var\"].sum().to_dict()\n",
        "for from_node, var_sum in dct_constr_1.items():\n",
        "  m.Add(var_sum == 2)\n",
        "\n",
        "# Создаем ограничения типа (3)\n",
        "dct_constr_3 = df_dist.set_index([\"from\", \"to\"]).to_dict()[\"var\"]\n",
        "for (from_node,  to_node), var_ in dct_constr_3.items():\n",
        "  m.Add(var_ == dct_constr_3[to_node, from_node])\n",
        "\n",
        "m.Minimize(sum(df_dist[obj_type] * df_dist[\"var\"]))\n",
        "\n",
        "# Инициализация solver\n",
        "solver = cp_model.CpSolver()\n",
        "solver.parameters.log_search_progress = True\n",
        "\n",
        "# Решение задачи\n",
        "status = solver.Solve(m)\n",
        "\n",
        "# Проверяем статус\n",
        "if status == cp_model.OPTIMAL:\n",
        "  print(\"-\" * 40)\n",
        "  gap_val = abs((solver.ObjectiveValue() - solver.BestObjectiveBound()) / max(1, solver.ObjectiveValue()))\n",
        "  # Извлекаем результат\n",
        "  df_dist[\"sol\"] = df_dist[\"var\"].apply(lambda x: solver.Value(x))\n",
        "  df_dist_opt = df_dist[df_dist[\"sol\"] > 0]\n",
        "\n",
        "  print(f\"-- Found solution {solver.ObjectiveValue()}\")\n",
        "  print(f\"-- GAP: {round(gap_val, 2)}%\")\n",
        "  print(f\"-- Solved in {solver.WallTime()} sec.\")\n",
        "  print(f\"-- Costs {df_dist_opt['cost'].sum() / 2} rub\")\n",
        "  print(f\"-- Duration {df_dist_opt['travel_time'].sum() / 2} h\")"
      ],
      "metadata": {
        "colab": {
          "base_uri": "https://localhost:8080/"
        },
        "id": "W5MufveD7inK",
        "outputId": "01bfe7df-5f47-4a6e-f3e2-98a8b54ac83d"
      },
      "execution_count": null,
      "outputs": [
        {
          "output_type": "stream",
          "name": "stdout",
          "text": [
            "----------------------------------------\n",
            "-- Found solution 187752.0\n",
            "-- GAP: 0.0%\n",
            "-- Solved in 0.013924358000000001 sec.\n",
            "-- Costs 93876.0 rub\n",
            "-- Duration 115.05000000000001 h\n"
          ]
        }
      ]
    },
    {
      "cell_type": "code",
      "source": [
        "# Нанесение результата на карту\n",
        "import plotly.graph_objects as go\n",
        "\n",
        "def plot_route(df_graph: pd.DataFrame):\n",
        "  # Начало и окончание маршрута в МСК\n",
        "  df_location[\"color\"] = np.where(df_location[\"id\"] == 0, \"red\", \"blue\")\n",
        "  df_location[\"size\"] = np.where(df_location[\"id\"] == 0, 14, 10)\n",
        "  df_location['text'] = df_location[\"id\"].astype(str) + \", \" + df_location[\"name\"]\n",
        "\n",
        "  # Добавляем координаты и наименование точек отправления и прибытия\n",
        "  df_loc_from = df_location.copy()\n",
        "  df_loc_from.columns = [col + \"_from\" for col in df_loc_from.columns]\n",
        "  df_loc_to = df_location.copy()\n",
        "  df_loc_to.columns = [col + \"_to\" for col in df_loc_to.columns]\n",
        "\n",
        "  df_travel_map = df_graph.merge(df_loc_from, how=\"left\", left_on=\"from\",\n",
        "                              right_on=\"id_from\")\n",
        "  df_travel_map = df_travel_map.merge(df_loc_to, how=\"left\", left_on=\"to\",\n",
        "                              right_on=\"id_to\")\n",
        "\n",
        "  # Наносим вершины\n",
        "  fig = go.Figure(data=go.Scattergeo(\n",
        "          lon = df_location['lon'],\n",
        "          lat = df_location['lat'],\n",
        "          text = df_location['text'],\n",
        "          mode = 'markers',\n",
        "          name = \"Локации\",\n",
        "          marker = dict(\n",
        "              size = df_location[\"size\"],\n",
        "              opacity = 0.8,\n",
        "              color = df_location[\"color\"],\n",
        "              ),\n",
        "          ))\n",
        "\n",
        "  # Наносим ребра\n",
        "  for row in df_travel_map.itertuples():\n",
        "    fig.add_trace(\n",
        "            go.Scattergeo(\n",
        "                lon = [row.lon_from, row.lon_to],\n",
        "                lat = [row.lat_from, row.lat_to],\n",
        "                mode = 'lines',\n",
        "                line = dict(width = 1,color = 'blue'),\n",
        "                opacity = 0.8,\n",
        "                name=row.name_from + \" - \" + row.name_to\n",
        "            ),\n",
        "        )\n",
        "\n",
        "  fig.update_layout(\n",
        "          title = 'Travel route in Russia <br>',\n",
        "          geo = dict(\n",
        "              showland = True,\n",
        "              landcolor = \"rgb(250, 250, 250)\",\n",
        "              subunitcolor = \"rgb(217, 217, 217)\",\n",
        "              countrycolor = \"rgb(217, 217, 217)\",\n",
        "              countrywidth = 0.5,\n",
        "              subunitwidth = 0.5\n",
        "          ),\n",
        "      )\n",
        "\n",
        "  fig.show()"
      ],
      "metadata": {
        "id": "XMNBJtsQO4Hl"
      },
      "execution_count": null,
      "outputs": []
    },
    {
      "cell_type": "markdown",
      "source": [
        "С целевой функцией минимизации затрат получили оптимальное решение задачи с общими затратами 93 876 руб (115.05 часов). Параметр `obj_type` позволяет переключить целевую функцию на минимизацию времени в пути, тогда оптимальное решение будет 70.9 часов (131 493 руб). Нанесем результат на карту для целевой функции минимизации затрат.\n",
        "\n",
        "<center>\n",
        "\n",
        "![Несвязный путь](https://drive.google.com/uc?export=view&id=1vpibCAehqAbaHnMXKxXJiwq-RkzmWMK_)\n",
        "\n",
        "</center>\n",
        "\n",
        "Не такой результат мы с вами ожидали, маршрут получился разбитым на части - несвязным. Ограничения типа (2) устраняют эту проблему, но цена достаточно высока - громаднейшая модель. Предложение - решать проблемы по мере их поступления.\n",
        "\n",
        "Исходя из решения задачи, мы можем определить несвязные подграфы и специально для них создать ограничения типа (2) - добавим заплатку. Само ограничение \"разрывает\" локальные циклы, обязывая создавать хотя бы одну связь с внешним множеством вершин. Новые ограничения приводят к изменению модели, следовательно, необходимо искать новое решение.\n",
        "\n",
        "В некоторых солверах есть возможность создавать ленивые ограничения (lazy constraints). Это ограничения, которые изначально находятся в неактивном состоянии, но при их нарушении или по другим критериям активации они добавляются в модель непосредственно в процессе решения задачи.\n",
        "\n",
        "Возвращаясь к нашей задаче. Было бы неплохо лениво создавать ограничения типа (2) при получении решения с нарушением связности. Но, к сожалению, ortools не имеет примеров или хорошей документации метода [set_is_lazy](https://developers.google.com/optimization/reference/python/linear_solver/pywraplp#set_is_lazy), поэтому мы воспользуемся циклами python. Связные подграфы будем определять с помощью библиотеки networkx. Критерий остановки - получен связный маршрут.\n",
        "\n",
        "*Работу ленивых ограничений можно посмотреть у [Gurobi](https://colab.research.google.com/github/Gurobi/modeling-examples/blob/master/traveling_salesman/tsp.ipynb#scrollTo=qHXziB65CXsR), не реклама.\n"
      ],
      "metadata": {
        "id": "UV6ToA7M_IQM"
      }
    },
    {
      "cell_type": "code",
      "source": [
        "# Итеративное добавление ограничений типа (2)\n",
        "from ortools.sat.python import cp_model\n",
        "import networkx as nx\n",
        "import pandas as pd\n",
        "import numpy as np\n",
        "\n",
        "# Считаем входные данные\n",
        "df_dist = df_cab = pd.read_csv(\"https://raw.githubusercontent.com/Lozkins/mos/master/data/06_tsp_dist.csv\", sep=\";\", encoding=\"cp1251\")\n",
        "df_location = df_cab = pd.read_csv(\"https://raw.githubusercontent.com/Lozkins/mos/master/data/06_tsp_coord.csv\", sep=\";\", encoding=\"cp1251\")\n",
        "\n",
        "obj_type = \"travel_time\"  # Тип целевой функции. Допустимые значения [\"cost\", \"travel_time\"]\n",
        "\n",
        "m = cp_model.CpModel()\n",
        "\n",
        "# Инициализация переменных\n",
        "df_dist[\"var_id\"] = np.ogrid[:df_dist.shape[0]]\n",
        "df_dist[\"var\"] = df_dist[\"var_id\"].apply(lambda x: m.NewBoolVar(f\"x_{x}\"))\n",
        "\n",
        "# Создаем ограничения типа (1)\n",
        "dct_constr_1 = df_dist.groupby(\"to\")[\"var\"].sum().to_dict()\n",
        "for from_node, var_sum in dct_constr_1.items():\n",
        "  m.Add(var_sum == 2)\n",
        "\n",
        "# Создаем ограничения типа (3)\n",
        "dct_constr_3 = df_dist.set_index([\"from\", \"to\"]).to_dict()[\"var\"]\n",
        "for (from_node,  to_node), var_ in dct_constr_3.items():\n",
        "  m.Add(var_ == dct_constr_3[to_node, from_node])\n",
        "\n",
        "m.Minimize(sum(df_dist[obj_type] * df_dist[\"var\"]))\n",
        "\n",
        "# Инициализация solver\n",
        "solver = cp_model.CpSolver()\n",
        "solver.parameters.log_search_progress = True\n",
        "\n",
        "# Решение задачи\n",
        "status = solver.Solve(m)\n",
        "\n",
        "# Извлекаем результат\n",
        "df_dist[\"sol\"] = df_dist[\"var\"].apply(lambda x: solver.Value(x))\n",
        "df_dist_opt = df_dist[df_dist[\"sol\"] > 0]\n",
        "\n",
        "# ----------- Итерации по добавлению ограничений типа (2). НАЧАЛО ------------------\n",
        "# Кол-во связных подграфов\n",
        "route_tmp = nx.from_pandas_edgelist(df_dist_opt, \"from\", \"to\")\n",
        "lst_sg = list(nx.connected_components(route_tmp))  # Список узлов в связных подграфах\n",
        "\n",
        "# Для статистики\n",
        "cnt_constrs = 0  # Кол-во добавленных ограничений типа (2)\n",
        "cnt_iter = 0  # Кол-во итераций решения задачи ILP\n",
        "solver_time = 0  # Суммарное время решения задач солвером\n",
        "\n",
        "# Повторять, пока имеем более одного несвязного подграфа\n",
        "while len(lst_sg) > 1:\n",
        "  cnt_iter += 1\n",
        "  for sg in lst_sg:\n",
        "    cnt_constrs += 1\n",
        "\n",
        "    # Отбираем необходимые переменные для суммирования\n",
        "    filt_i = df_dist[\"from\"].isin(sg)\n",
        "    filt_j = df_dist[\"to\"].isin(sg)\n",
        "    filt_i_less_j = df_dist[\"from\"] < df_dist[\"to\"]\n",
        "    filt_all = filt_i_less_j & filt_i & filt_j\n",
        "    var_sum = df_dist[filt_all][\"var\"].sum()\n",
        "\n",
        "    # Добавляем ограничение типа (2) в модель\n",
        "    m.Add(var_sum <= len(sg) - 1)\n",
        "\n",
        "  status = solver.Solve(m)\n",
        "  solver_time += solver.WallTime()\n",
        "\n",
        "  # Извлекаем результат\n",
        "  df_dist[\"sol\"] = df_dist[\"var\"].apply(lambda x: solver.Value(x))\n",
        "  df_dist_opt = df_dist[df_dist[\"sol\"] > 0]\n",
        "\n",
        "  # Кол-во связных подграфов\n",
        "  route_tmp = nx.from_pandas_edgelist(df_dist_opt, \"from\", \"to\")\n",
        "  lst_sg = list(nx.connected_components(route_tmp))  # Список узлов в связных подграфах\n",
        "# ----------- Итерации по добавлению ограничений типа (2). КОНЕЦ ------------------\n",
        "\n",
        "# Проверяем статус\n",
        "if status == cp_model.OPTIMAL:\n",
        "  print(\"-\" * 40)\n",
        "  gap_val = abs((solver.ObjectiveValue() - solver.BestObjectiveBound()) / max(1, solver.ObjectiveValue()))\n",
        "  print(f\"-- Found solution {solver.ObjectiveValue()}\")\n",
        "  print(f\"-- GAP: {round(gap_val, 2)}%\")\n",
        "  print(f\"-- Solved in {solver_time} sec.\")\n",
        "  print(f\"-- Constraints (2) added {cnt_constrs}\")\n",
        "  print(f\"-- Iterations count {cnt_iter}\")\n",
        "  print(f\"-- Costs {df_dist_opt['cost'].sum() / 2} rub\")\n",
        "  print(f\"-- Duration {df_dist_opt['travel_time'].sum() / 2} h\")"
      ],
      "metadata": {
        "colab": {
          "base_uri": "https://localhost:8080/"
        },
        "id": "tPAXwJf9zyjI",
        "outputId": "92679f07-a90d-4fba-eeb1-c504d5a6aa33"
      },
      "execution_count": null,
      "outputs": [
        {
          "output_type": "stream",
          "name": "stdout",
          "text": [
            "----------------------------------------\n",
            "-- Found solution 143.09999999999997\n",
            "-- GAP: 0.0%\n",
            "-- Solved in 0.035350768000000005 sec.\n",
            "-- Constraints (2) added 7\n",
            "-- Iterations count 3\n",
            "-- Costs 137770.0 rub\n",
            "-- Duration 71.55 h\n"
          ]
        }
      ]
    },
    {
      "cell_type": "code",
      "source": [
        "# Полная модель - инициализируем все ограничения типа (2)\n",
        "from ortools.sat.python import cp_model\n",
        "import pandas as pd\n",
        "import numpy as np\n",
        "from itertools import chain, combinations\n",
        "\n",
        "# Считаем входные данные\n",
        "df_dist = df_cab = pd.read_csv(\"https://raw.githubusercontent.com/Lozkins/mos/master/data/06_tsp_dist.csv\", sep=\";\", encoding=\"cp1251\")\n",
        "df_location = df_cab = pd.read_csv(\"https://raw.githubusercontent.com/Lozkins/mos/master/data/06_tsp_coord.csv\", sep=\";\", encoding=\"cp1251\")\n",
        "\n",
        "obj_type = \"travel_time\"  # Тип целевой функции. Допустимые значения [\"cost\", \"travel_time\"]\n",
        "\n",
        "m = cp_model.CpModel()\n",
        "\n",
        "# Инициализация переменных\n",
        "df_dist[\"var_id\"] = np.ogrid[:df_dist.shape[0]]\n",
        "df_dist[\"var\"] = df_dist[\"var_id\"].apply(lambda x: m.NewBoolVar(f\"x_{x}\"))\n",
        "\n",
        "# Создаем ограничения типа (1)\n",
        "dct_constr_1 = df_dist.groupby(\"to\")[\"var\"].sum().to_dict()\n",
        "for from_node, var_sum in dct_constr_1.items():\n",
        "  m.Add(var_sum == 2)\n",
        "\n",
        "# Создаем ограничения типа (2)\n",
        "def powerset(iterable):\n",
        "  s = list(iterable)\n",
        "  return chain.from_iterable(combinations(s, r) for r in range(len(s)+1) if 1 < r < len(s) - 1)\n",
        "\n",
        "cnt_constrs = 0\n",
        "for lst_nodes in powerset(df_location[\"id\"]):\n",
        "  cnt_constrs += 1\n",
        "\n",
        "  # Отбираем необходимые переменные для суммирования\n",
        "  filt_i = df_dist[\"from\"].isin(lst_nodes)\n",
        "  filt_j = df_dist[\"to\"].isin(lst_nodes)\n",
        "  filt_i_less_j = df_dist[\"from\"] < df_dist[\"to\"]\n",
        "  filt_all = filt_i_less_j & filt_i & filt_j\n",
        "  var_sum = df_dist[filt_all][\"var\"]\n",
        "\n",
        "  if len(var_sum) != 0:\n",
        "    cnt_constrs += 1\n",
        "    var_sum = var_sum.sum()\n",
        "    # Добавляем ограничение типа (2) в модель\n",
        "    m.Add(var_sum <= len(lst_nodes) - 1)\n",
        "\n",
        "# Создаем ограничения типа (3)\n",
        "dct_constr_3 = df_dist.set_index([\"from\", \"to\"]).to_dict()[\"var\"]\n",
        "for (from_node,  to_node), var_ in dct_constr_3.items():\n",
        "  m.Add(var_ == dct_constr_3[to_node, from_node])\n",
        "\n",
        "m.Minimize(sum(df_dist[obj_type] * df_dist[\"var\"]))\n",
        "\n",
        "# Инициализация solver\n",
        "solver = cp_model.CpSolver()\n",
        "solver.parameters.log_search_progress = True\n",
        "\n",
        "# Решение задачи\n",
        "status = solver.Solve(m)\n",
        "\n",
        "# Проверяем статус\n",
        "if status == cp_model.OPTIMAL:\n",
        "  print(\"-\" * 40)\n",
        "  gap_val = abs((solver.ObjectiveValue() - solver.BestObjectiveBound()) / max(1, solver.ObjectiveValue()))\n",
        "  print(f\"-- Found solution {solver.ObjectiveValue()}\")\n",
        "  print(f\"-- GAP: {round(gap_val, 2)}%\")\n",
        "  print(f\"-- Solved in {solver.WallTime()} sec.\")\n",
        "  print(f\"-- Constraints (2) added {cnt_constrs}\")\n",
        "  print(f\"-- Costs {df_dist_opt['cost'].sum() / 2} rub\")\n",
        "  print(f\"-- Duration {df_dist_opt['travel_time'].sum() / 2} h\")\n",
        "\n",
        "  # Извлекаем результат\n",
        "  df_dist[\"sol\"] = df_dist[\"var\"].apply(lambda x: solver.Value(x))\n",
        "  df_dist_opt = df_dist[df_dist[\"sol\"] > 0]"
      ],
      "metadata": {
        "colab": {
          "base_uri": "https://localhost:8080/"
        },
        "id": "llzvkgGgxxeS",
        "outputId": "bf7854c4-5bd6-4fef-a201-ef324061e3c7"
      },
      "execution_count": null,
      "outputs": [
        {
          "output_type": "stream",
          "name": "stdout",
          "text": [
            "----------------------------------------\n",
            "-- Found solution 143.09999999999997\n",
            "-- GAP: 0.0%\n",
            "-- Solved in 32.531702533 sec.\n",
            "-- Constraints (2) added 130925\n",
            "-- Costs 275540 rub\n",
            "-- Duration 143.1 h\n"
          ]
        }
      ]
    },
    {
      "cell_type": "markdown",
      "source": [
        "Что изменилось в результате? Полученный маршрут представляет собой один большой цикл без повторения вершин - гамильтонов цикл. Это результат, к которому стремились! Берем на заметку и отправляемся в путь!\n",
        "\n",
        "<center>\n",
        "\n",
        "![Гамильтонов цикл с минимальными затратами](https://drive.google.com/uc?export=view&id=1zB2uRLMkCrmSjvOZKBxX0bQ0Ij8DQRr2)\n",
        "\n",
        "</center>\n",
        "\n",
        "Проверим решение, для этого воспользуемся готовым модулем от ORTools для решения задачи VRP. Потребуется подстроить входные данные под алгоритм. Матрица переходов между узлами у нас неполная, поэтому воспользуемся сравнительно большими числами в качестве заглушек для пропущенных значений. Количество единиц транспорта = 1 в случае задачи TSP, узел начала и окончания маршрута - Москва (0). Отмечу, что матрица \"расстояний\" должна быть целочисленной.\n",
        "\n",
        "КОД\n",
        "\n",
        "Сведем результаты экспериментов в одну таблицу. Представлю три версии модели: полная модель со всеми ограничениями типа (2) (full), итеративное добавление ограничения (2) (iter) и пакетная версия решения задачи VRP от ORTools (ortools). Замеряемые параметры: время расчета, кол-во ограничений типа (2), кол-во итераций решения ILP, затраты на маршруте и длительность движения по маршруту.\n",
        "\n",
        "<center>\n",
        "\n",
        "|                     | **iter (cost)** | **iter (travel_time)** | **full (cost)** | **full (travel_time)** | **ortools (cost)** |\n",
        "|---------------------|:---------------:|:-------------------:|:---------------:|:-------------------:|:------------------:|\n",
        "| **Time, s**         |       0,05      |         0,05        |       27,9      |         32,5        |        0,007       |\n",
        "| **Constraints (2)** |        9        |          7          |      130925     |        130925       |          -         |\n",
        "| **Iterations**      |        3        |          3          |        1        |          1          |          -         |\n",
        "| **Costs, rub**      |      101833     |        137770       |      101833     |        137770       |       101833       |\n",
        "| **Travel time, h**     |      124,3      |        71,55        |      124,3      |        71,55        |        124,3       |\n",
        "\n",
        "</center>\n",
        "\n"
      ],
      "metadata": {
        "id": "51UPpoPN0Qiy"
      }
    },
    {
      "cell_type": "code",
      "source": [
        "from ortools.constraint_solver import routing_enums_pb2\n",
        "from ortools.constraint_solver import pywrapcp\n",
        "\n",
        "# Считаем входные данные\n",
        "df_dist = df_cab = pd.read_csv(\"https://raw.githubusercontent.com/Lozkins/mos/master/data/06_tsp_dist.csv\", sep=\";\", encoding=\"cp1251\")\n",
        "df_location = df_cab = pd.read_csv(\"https://raw.githubusercontent.com/Lozkins/mos/master/data/06_tsp_coord.csv\", sep=\";\", encoding=\"cp1251\")\n",
        "\n",
        "obj_type = \"cost\"  # Тип целевой функции. Допустимые значения [\"cost\", \"travel_time\"]\n",
        "large_M = 10**5\n",
        "round_mult = 1\n",
        "\n",
        "def create_data_model():\n",
        "    \"\"\"\n",
        "      Подготовка данных к запуску\n",
        "    \"\"\"\n",
        "    data = {}\n",
        "    dct_dist = df_dist.set_index([\"from\", \"to\"]).to_dict()[obj_type]\n",
        "    # Матрица расстояний\n",
        "    data[\"distance_matrix\"] = [\n",
        "        [int(dct_dist.get((i, j), 0 if i == j else large_M) * round_mult)  for j in range(df_location.shape[0])]\n",
        "        for i in range(df_location.shape[0])]\n",
        "    # Кол-во транспортных средств - для задачи TSP - 1\n",
        "    data[\"num_vehicles\"] = 1\n",
        "    # Вершина начала и завершения маршрута\n",
        "    data[\"depot\"] = 0\n",
        "    return data\n",
        "\n",
        "def print_solution(manager, routing, solution):\n",
        "    \"\"\"\n",
        "      Вывод решения\n",
        "    \"\"\"\n",
        "    print(f\"Значение целевой функции: {solution.ObjectiveValue()} {obj_type}\")\n",
        "    index = routing.Start(0)\n",
        "    plan_output = \"Маршрут:\\n\"\n",
        "    route_distance = 0\n",
        "    while not routing.IsEnd(index):\n",
        "        plan_output += f\" {manager.IndexToNode(index)} ->\"\n",
        "        previous_index = index\n",
        "        index = solution.Value(routing.NextVar(index))\n",
        "        route_distance += routing.GetArcCostForVehicle(previous_index, index, 0)\n",
        "    plan_output += f\" {manager.IndexToNode(index)}\\n\"\n",
        "\n",
        "    plan_output += f\"Параметр маршрута: {route_distance} {obj_type}\\n\"\n",
        "\n",
        "def get_routes(solution, routing, manager):\n",
        "  \"\"\"\n",
        "    Извлечение маршрута из модели\n",
        "  \"\"\"\n",
        "  routes = []\n",
        "  for route_nbr in range(routing.vehicles()):\n",
        "    index = routing.Start(route_nbr)\n",
        "    route = [manager.IndexToNode(index)]\n",
        "    while not routing.IsEnd(index):\n",
        "      index = solution.Value(routing.NextVar(index))\n",
        "      route.append(manager.IndexToNode(index))\n",
        "    routes.append(route)\n",
        "  return routes\n",
        "\n",
        "def main():\n",
        "    \"\"\"\n",
        "      Запуск алгоритма\n",
        "    \"\"\"\n",
        "    # Инициализация данных\n",
        "    data = create_data_model()\n",
        "\n",
        "    # Создание менеджера маршрутизации\n",
        "    manager = pywrapcp.RoutingIndexManager(\n",
        "        df_location.shape[0], data[\"num_vehicles\"], data[\"depot\"])\n",
        "\n",
        "    # Инициализация модели маршрутизации\n",
        "    routing = pywrapcp.RoutingModel(manager)\n",
        "\n",
        "    def distance_callback(from_index, to_index):\n",
        "        from_node = manager.IndexToNode(from_index)\n",
        "        to_node = manager.IndexToNode(to_index)\n",
        "        return data[\"distance_matrix\"][from_node][to_node]\n",
        "\n",
        "    transit_callback_index = routing.RegisterTransitCallback(distance_callback)\n",
        "\n",
        "    # Определяем вес ребра (стоимость или время в пути)\n",
        "    routing.SetArcCostEvaluatorOfAllVehicles(transit_callback_index)\n",
        "\n",
        "    # Инициализация начального решений\n",
        "    search_parameters = pywrapcp.DefaultRoutingSearchParameters()\n",
        "    search_parameters.first_solution_strategy = (\n",
        "        routing_enums_pb2.FirstSolutionStrategy.PATH_CHEAPEST_ARC\n",
        "    )\n",
        "\n",
        "    # Solve the problem.\n",
        "    solution = routing.SolveWithParameters(search_parameters)\n",
        "\n",
        "    # Print solution on console.\n",
        "    if solution:\n",
        "        print_solution(manager, routing, solution)\n",
        "        routes = get_routes(solution, routing, manager)\n",
        "        # Display the routes.\n",
        "        for i, route in enumerate(routes):\n",
        "          print('Route', i, route)\n",
        "          return route\n",
        "\n",
        "route = main()\n",
        "\n",
        "# Преобразуем в таблицу\n",
        "lst_pairs = list(zip(route[:-1], route[1:]))\n",
        "df_route_ortools = pd.DataFrame(lst_pairs, columns=[\"from\", \"to\"])\n",
        "df_route_ortools = df_dist.merge(df_route_ortools, how=\"right\", on=[\"from\", \"to\"])"
      ],
      "metadata": {
        "id": "UkkfoUil-sIE",
        "colab": {
          "base_uri": "https://localhost:8080/"
        },
        "outputId": "5826e4cd-87f1-4857-c035-006da28d7da3"
      },
      "execution_count": null,
      "outputs": [
        {
          "output_type": "stream",
          "name": "stdout",
          "text": [
            "Значение целевой функции: 101833 cost\n",
            "Route 0 [0, 8, 4, 2, 3, 6, 1, 14, 9, 11, 12, 13, 15, 10, 7, 5, 0]\n"
          ]
        }
      ]
    },
    {
      "cell_type": "code",
      "source": [
        "df_tmp = df_location.set_index(\"id\")\n",
        "dct_loc = df_tmp.to_dict()[\"name\"]\n",
        "rout_n = [dct_loc[r] for r in [0, 6, 1, 2, 4, 8, 3, 7, 5, 14, 9, 12, 11, 10, 15, 13, 0]]\n",
        "\" -> \".join(rout_n)"
      ],
      "metadata": {
        "colab": {
          "base_uri": "https://localhost:8080/",
          "height": 53
        },
        "id": "bu7DQ-5pOQ-F",
        "outputId": "e526e42f-ba85-4edc-ac7d-480a204ac80e"
      },
      "execution_count": null,
      "outputs": [
        {
          "output_type": "execute_result",
          "data": {
            "text/plain": [
              "'Москва -> Село Териберка/Мурманск -> Калининград -> Псков -> Карелия/Петрозаводск -> Волгоград -> Санкт-Петербург -> Казань -> Сочи -> Листвянка/Иркутск -> Красноярск -> Благовещенск -> Южно-Сахалинск  -> Алтай/Горно-Алтайск -> Новосибирск -> Шерегеш/Новокузнецк -> Москва'"
            ],
            "application/vnd.google.colaboratory.intrinsic+json": {
              "type": "string"
            }
          },
          "metadata": {},
          "execution_count": 42
        }
      ]
    },
    {
      "cell_type": "code",
      "source": [
        "# plot_route(df_dist_opt)\n",
        "# [0, 6, 1, 2, 4, 8, 3, 7, 5, 14, 9, 12, 11, 10, 15, 13, 0]\n",
        "df_dist_opt[\"cost\"].sum()"
      ],
      "metadata": {
        "colab": {
          "base_uri": "https://localhost:8080/"
        },
        "id": "J9qh_3cDPeKi",
        "outputId": "8adbc99b-5aa9-4c78-fe84-a3ad1201c948"
      },
      "execution_count": null,
      "outputs": [
        {
          "output_type": "execute_result",
          "data": {
            "text/plain": [
              "275540"
            ]
          },
          "metadata": {},
          "execution_count": 43
        }
      ]
    },
    {
      "cell_type": "markdown",
      "source": [
        "# Резюме\n",
        "\n",
        "Теоретическая постановка задачи со всеми ограничениями типа (2) оказалась наименее производительной, с точки зрения времени поиска оптимального решения. Итеративная постановка подразумевает создание ограничений по мере их необходимости, как результат - создание до 10 ограничений типа (2) вместо ~131к ограничений на нашем сценарии. Масштабирование эффекта итераций на другие наборы данных не работает. Остается вероятность сценария, когда будут генерироваться значительно бОльшие объемы ограничений типа (2).\n",
        "\n",
        "Эксперименты проводили на сравнительно малом кол-ве вершин, поэтому сравнивать итеративную постановку и ortools будет нерепрезентативно. Ожидание - ortools будет быстрее.\n",
        "\n",
        "Так куда же ехать? У нас была возможность построить самый быстрый и самый дешевый маршрут. Готовые маршруты по туристическим местам от Даши Васильевой:\n",
        "\n",
        "**Самый дешевый маршрут (101 833 руб / 124,3 ч):** Москва -> Волгоград -> Карелия/Петрозаводск -> Псков -> Санкт-Петербург -> Село Териберка/Мурманск -> Калининград -> Листвянка/Иркутск -> Красноярск -> Южно-Сахалинск  -> Благовещенск -> Шерегеш/Новокузнецк -> Новосибирск -> Алтай/Горно-Алтайск -> Казань -> Сочи -> Москва\n",
        "\n",
        "**Самый быстрый маршрут (137 770 руб / 71,55 ч):** Москва -> Село Териберка/Мурманск -> Калининград -> Псков -> Карелия/Петрозаводск -> Волгоград -> Санкт-Петербург -> Казань -> Сочи -> Листвянка/Иркутск -> Красноярск -> Благовещенск -> Южно-Сахалинск  -> Алтай/Горно-Алтайск -> Новосибирск -> Шерегеш/Новокузнецк -> Москва\n",
        "\n",
        "---\n",
        "\n",
        "Будем рады за предложения по локациям и критериям. Быть может, кто-то из нас решиться на длительное турне и обкатает решение вживую."
      ],
      "metadata": {
        "id": "5H2l5HDKDV7K"
      }
    },
    {
      "cell_type": "markdown",
      "source": [
        "# Схожие материалы\n",
        "\n",
        "- [Прогулка по мостам Кёнигсберга](https://habr.com/ru/articles/745300/)\n",
        "- [Моделирование размещения хабов в сети](https://habr.com/ru/articles/772012/)\n",
        "- [Фичи линейного программирования](https://habr.com/ru/articles/765116/)"
      ],
      "metadata": {
        "id": "QP2q0j7-NLn1"
      }
    }
  ]
}